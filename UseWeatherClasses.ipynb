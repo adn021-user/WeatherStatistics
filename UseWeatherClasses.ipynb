{
 "cells": [
  {
   "cell_type": "markdown",
   "id": "54dc95c0-f0ba-4231-8423-2cbf3797bb69",
   "metadata": {},
   "source": [
    "You may ignore this notebook file, or use it as your final project notebook.\n",
    "\n",
    "**I think I will not ignore it**"
   ]
  },
  {
   "cell_type": "markdown",
   "id": "7365bbe7-c3b6-4bfa-a614-958703a5d163",
   "metadata": {},
   "source": [
    "**The General Concept**\n",
    "\n",
    "This project takes real world data, both historical and forecasted, from an API source and analyzes it to make inferences about the current weather for any city in the world."
   ]
  },
  {
   "cell_type": "markdown",
   "id": "a77c7fbe-fee3-426b-b6f4-c4c064c8a5ea",
   "metadata": {},
   "source": [
    "**Project Description**\n",
    "\n",
    "Real world weather data is collected through a free API called Open-Meteo API. That information is downloaded using the 'WeatherDataDownload' class and is interpreted and analyzed using the 'WeatherDataStatistics' class. \n",
    "The 'WeatherDataDownload' class downloads three things from Open-Meteo:\n",
    "\n",
    "        1. Historical weather data\n",
    "        2. Today's forecast data\n",
    "        3. Geocode\n",
    "\n",
    "\n",
    "The 'WeatherDataStatistics' class can be used to:\n",
    "\n",
    "        1. extract the extreme temperatures from the downloaded historical data\n",
    "        2. compare those temperatures to today's weather\n",
    "        3. provide a visual that displays that temperature comparision\n",
    "\n",
    "Module 'main.py' will run everything."
   ]
  },
  {
   "cell_type": "markdown",
   "id": "53a1e7c6-c1c1-4a9d-9957-9a69b93a5b57",
   "metadata": {},
   "source": [
    "Please install these if you have not done so already!"
   ]
  },
  {
   "cell_type": "code",
   "execution_count": null,
   "id": "98aca721-19bb-48cc-a806-cf332c5cc019",
   "metadata": {},
   "outputs": [],
   "source": [
    "!pip install openmeteo-requests"
   ]
  },
  {
   "cell_type": "code",
   "execution_count": null,
   "id": "25c0c9a4-f9be-457e-81fe-f8c71a0a6cf3",
   "metadata": {},
   "outputs": [],
   "source": [
    "!pip install requests-cache retry-requests numpy pandas\n"
   ]
  },
  {
   "cell_type": "markdown",
   "id": "f3fd127d-93e6-42dc-8950-163791b7e688",
   "metadata": {},
   "source": [
    "**These are the modules that hold my classes**"
   ]
  },
  {
   "cell_type": "code",
   "execution_count": 1,
   "id": "7a999627-95af-42ff-af8e-68f4260caa11",
   "metadata": {},
   "outputs": [],
   "source": [
    "from weather_data_download import WeatherDataDownload\n",
    "from weather_data_statistics import WeatherDataStatistics\n"
   ]
  },
  {
   "cell_type": "markdown",
   "id": "998ec514-c3dd-4ce9-b51f-4f15ad46951b",
   "metadata": {},
   "source": [
    "**Let's choose a city and establish some data**"
   ]
  },
  {
   "cell_type": "code",
   "execution_count": 2,
   "id": "2b9f8bab-15f0-4ce6-b4a1-cb2cc561ad38",
   "metadata": {
    "scrolled": true
   },
   "outputs": [],
   "source": [
    "city = 'La Jolla'\n",
    "month = 12\n",
    "weather_downloader = WeatherDataDownload(city)\n",
    "weather_downloader.get_historical_data()\n",
    "weather_downloader.get_forecast_data()\n",
    "weather_stat = WeatherDataStatistics(city)"
   ]
  },
  {
   "cell_type": "markdown",
   "id": "210c0dcd-36b5-4847-a186-0191d891125f",
   "metadata": {},
   "source": [
    "**Here's some necessary information about this month's past day and night record extremes**"
   ]
  },
  {
   "cell_type": "code",
   "execution_count": 3,
   "id": "ea7868f1-47a7-443a-b90c-89f62187a5bb",
   "metadata": {},
   "outputs": [
    {
     "name": "stdout",
     "output_type": "stream",
     "text": [
      "Max Day Temperature of the Month:    75.1748\n",
      "Min Day Temperature of the Month:    61.2248\n",
      "Max Night Temperature of the Month:  56.9048\n",
      "Min Night Temperature of the Month:  43.8548\n"
     ]
    }
   ],
   "source": [
    "weather_stat.match_against_historical_weather(month)"
   ]
  },
  {
   "cell_type": "markdown",
   "id": "84c1897a-6a23-4790-b136-84594e4e6bc2",
   "metadata": {},
   "source": [
    "**For some perspective, let's compare today's extremes with this month's past extremes**"
   ]
  },
  {
   "cell_type": "code",
   "execution_count": 6,
   "id": "4b077201-d798-40b2-ad45-09d72328e104",
   "metadata": {},
   "outputs": [
    {
     "name": "stdout",
     "output_type": "stream",
     "text": [
      "61F - - - - - - - (today 69F) - - - - - 75F \n",
      "Moderately warm in the day for this month\n"
     ]
    },
    {
     "data": {
      "text/plain": [
       "'Moderately warm in the day for this month'"
      ]
     },
     "execution_count": 6,
     "metadata": {},
     "output_type": "execute_result"
    }
   ],
   "source": [
    "weather_stat.compare_day_temps(weather_downloader.today_max_day_temp)\n"
   ]
  },
  {
   "cell_type": "code",
   "execution_count": 7,
   "id": "87a74eaf-2ea7-4fb6-a991-d6b1c609932a",
   "metadata": {},
   "outputs": [
    {
     "name": "stdout",
     "output_type": "stream",
     "text": [
      "44F - - - (today 48F) - - - - - - - - 57F \n",
      "Moderately cold at night for this month\n"
     ]
    },
    {
     "data": {
      "text/plain": [
       "'Moderately cold at night for this month'"
      ]
     },
     "execution_count": 7,
     "metadata": {},
     "output_type": "execute_result"
    }
   ],
   "source": [
    "weather_stat.compare_night_temps(weather_downloader.today_min_night_temp)"
   ]
  },
  {
   "cell_type": "code",
   "execution_count": 8,
   "id": "3a700f2b-25ba-4fdd-9acf-303bdf1e971d",
   "metadata": {},
   "outputs": [
    {
     "name": "stdout",
     "output_type": "stream",
     "text": [
      "Max Day Temperature of the Month:    75.1748\n",
      "Min Day Temperature of the Month:    61.2248\n",
      "Max Night Temperature of the Month:  56.9048\n",
      "Min Night Temperature of the Month:  43.8548\n",
      "61F - - - - - - - (today 69F) - - - - - 75F \n",
      "Moderately warm in the day for this month\n",
      "44F - - - (today 48F) - - - - - - - - 57F \n",
      "Moderately cold at night for this month\n"
     ]
    }
   ],
   "source": [
    "!python main.py"
   ]
  },
  {
   "cell_type": "code",
   "execution_count": 9,
   "id": "7662acc1-0d49-4e62-8f78-d2719ca4c37c",
   "metadata": {},
   "outputs": [
    {
     "name": "stdout",
     "output_type": "stream",
     "text": [
      "\u001b[1m============================= test session starts ==============================\u001b[0m\n",
      "platform linux -- Python 3.11.9, pytest-8.3.3, pluggy-1.5.0\n",
      "rootdir: /home/adn021/FinalProject\n",
      "plugins: anyio-4.3.0\n",
      "collected 6 items                                                              \u001b[0m\u001b[1m\n",
      "\n",
      "test_weather.py \u001b[32m.\u001b[0m\u001b[32m.\u001b[0m\u001b[32m.\u001b[0m\u001b[32m.\u001b[0m\u001b[32m.\u001b[0m\u001b[32m.\u001b[0m\u001b[32m                                                   [100%]\u001b[0m\n",
      "\n",
      "\u001b[32m============================== \u001b[32m\u001b[1m6 passed\u001b[0m\u001b[32m in 6.80s\u001b[0m\u001b[32m ===============================\u001b[0m\n"
     ]
    }
   ],
   "source": [
    "!pytest"
   ]
  },
  {
   "cell_type": "markdown",
   "id": "08eac020-0ba7-4899-9b3c-a7027a81232c",
   "metadata": {},
   "source": [
    "**EXTRA CREDIT EXPLANATION CELL: RECURSION**\n",
    "\n",
    "To print the visual range produced from the 'compare_day_temps' and 'compare_night_temps', I used the method 'print_range_recursive' to print out my range in a recursive loop. This concept was difficult to learn and wrap my head around. I had to look at that problem a while loop and then adapt to the recursive logic.\n",
    "\n",
    "The expectations of the project and course overall does not require recursion, so the functional recursive loop, which required external learning, goes beyond the minimal project requirements."
   ]
  },
  {
   "cell_type": "markdown",
   "id": "c292e3ab-50bf-486b-9259-1708fa790d53",
   "metadata": {},
   "source": [
    "**EXTRA CREDIT EXPLANATION CELL: API**\n",
    "\n",
    "To do this entire project, I had to learn and familiarize myself with calling upon an external API to gather information for me. The API downloads historical weather, today's forecast, and location for the given city, which I used extensively in the WeatherDataDownload class.\n",
    "\n",
    "Learning how to properly use API data goes beyond the minimal project requirements; I spent extended time researching and understanding API's."
   ]
  },
  {
   "cell_type": "code",
   "execution_count": null,
   "id": "8147be01-5fa9-4e5c-9aec-c1d4bc1f235d",
   "metadata": {},
   "outputs": [],
   "source": []
  }
 ],
 "metadata": {
  "kernelspec": {
   "display_name": "Python 3 (ipykernel)",
   "language": "python",
   "name": "python3"
  },
  "language_info": {
   "codemirror_mode": {
    "name": "ipython",
    "version": 3
   },
   "file_extension": ".py",
   "mimetype": "text/x-python",
   "name": "python",
   "nbconvert_exporter": "python",
   "pygments_lexer": "ipython3",
   "version": "3.11.9"
  }
 },
 "nbformat": 4,
 "nbformat_minor": 5
}
